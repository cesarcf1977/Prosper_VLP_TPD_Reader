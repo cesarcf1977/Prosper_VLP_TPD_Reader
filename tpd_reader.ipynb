{
 "cells": [
  {
   "cell_type": "code",
   "execution_count": 93,
   "metadata": {},
   "outputs": [],
   "source": [
    "# Import required modules\n",
    "import pandas as pd"
   ]
  },
  {
   "cell_type": "code",
   "execution_count": 94,
   "metadata": {},
   "outputs": [],
   "source": [
    "# Read everything as a text file\n",
    "with open(\"vlp_sample.tpd\", 'r') as f:\n",
    "    lines = f.readlines()"
   ]
  },
  {
   "cell_type": "code",
   "execution_count": 95,
   "metadata": {},
   "outputs": [],
   "source": [
    "# Identify key sections in tpd file\n",
    "sensVarsHeader = \"# Numbers of :- Rates,\"\n",
    "sensVarsHeaderIndex = [idx for idx, s in enumerate(lines) if sensVarsHeader in s][0] \n",
    "sensVarsNum = int(lines[sensVarsHeaderIndex + 1].split(\",\")[0])\n",
    "\n",
    "calcVarsHeader = \"# Number of Calculated Values (columns)\\n\"\n",
    "calcVarsHeaderIndex = lines.index(calcVarsHeader)\n",
    "calcVarsNum = int(lines[calcVarsHeaderIndex + 1])\n",
    "calcVarsNames = lines[calcVarsHeaderIndex+2:calcVarsHeaderIndex+calcVarsNum+2]\n",
    "\n",
    "resultsHeader = \"# 3 Variable TPD Results\\n\"\n",
    "resultsHeaderIndex = lines.index(resultsHeader)"
   ]
  },
  {
   "cell_type": "code",
   "execution_count": 102,
   "metadata": {},
   "outputs": [],
   "source": [
    "# Read the main tabular data\n",
    "data = pd.read_csv(\"vlp_sample.tpd\", sep=\",\", skiprows=resultsHeaderIndex+1, header=None)"
   ]
  },
  {
   "cell_type": "code",
   "execution_count": 97,
   "metadata": {},
   "outputs": [
    {
     "data": {
      "text/plain": [
       "'13\\n'"
      ]
     },
     "execution_count": 97,
     "metadata": {},
     "output_type": "execute_result"
    }
   ],
   "source": [
    "lines[129]"
   ]
  }
 ],
 "metadata": {
  "kernelspec": {
   "display_name": "base",
   "language": "python",
   "name": "python3"
  },
  "language_info": {
   "codemirror_mode": {
    "name": "ipython",
    "version": 3
   },
   "file_extension": ".py",
   "mimetype": "text/x-python",
   "name": "python",
   "nbconvert_exporter": "python",
   "pygments_lexer": "ipython3",
   "version": "3.9.13"
  },
  "orig_nbformat": 4
 },
 "nbformat": 4,
 "nbformat_minor": 2
}
